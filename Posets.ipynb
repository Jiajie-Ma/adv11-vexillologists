{
 "cells": [
  {
   "cell_type": "code",
   "execution_count": 2,
   "metadata": {},
   "outputs": [],
   "source": [
    "#combin returns subsets of size k of X\n",
    "def combin (X, k):\n",
    "    if k == 0:\n",
    "        return [[]]\n",
    "    if X == []:\n",
    "        return []\n",
    "    else:\n",
    "        A = [] \n",
    "        x = X[0] \n",
    "        Y = X[1:] \n",
    "        A = combin (Y, k) \n",
    "        for n in combin (Y,k-1): \n",
    "            y = [x]+n \n",
    "            A.append(y) \n",
    "        return A "
   ]
  },
  {
   "cell_type": "code",
   "execution_count": 3,
   "metadata": {},
   "outputs": [],
   "source": [
    "#given a tree mod m and an element a, gives us the ways in which we can insert a\n",
    "def insertoptions (m, tree, atoms, done, a): \n",
    "    options = [] \n",
    "    for n in done: \n",
    "        if modsub(m, a, n) in atoms: \n",
    "             options.append ((n,a)) \n",
    "    return options "
   ]
  },
  {
   "cell_type": "code",
   "execution_count": 4,
   "metadata": {},
   "outputs": [],
   "source": [
    "#function for modular subtraction\n",
    "def modsub(m, a, b):\n",
    "    if a-b >= 0 and a-b < m:\n",
    "        return a-b\n",
    "    else:\n",
    "        if a-b < 0:\n",
    "            return (a-b)+m\n",
    "        else:\n",
    "            return (a-b)-m"
   ]
  },
  {
   "cell_type": "code",
   "execution_count": 5,
   "metadata": {},
   "outputs": [],
   "source": [
    "#given a tree, returns the elements that are already present\n",
    "def doneintree(tree):\n",
    "    if tree==[]:\n",
    "        return []\n",
    "    else:\n",
    "        if tree[0][1] not in doneintree(tree[1:]):\n",
    "            return [tree[0][1]]+doneintree(tree[1:])\n",
    "        else:\n",
    "            return doneintree(tree[1:])\n",
    "        "
   ]
  },
  {
   "cell_type": "code",
   "execution_count": 6,
   "metadata": {},
   "outputs": [],
   "source": [
    "#given a tree, returns its atoms (elements that cover 0)\n",
    "def atomsintree(tree):\n",
    "    if tree == []:\n",
    "        return []\n",
    "    else:\n",
    "        if tree[0][0] == 0:\n",
    "            return [tree[0][1]]+atomsintree(tree[1:])\n",
    "        else:\n",
    "            return atomsintree(tree[1:])"
   ]
  },
  {
   "cell_type": "code",
   "execution_count": 7,
   "metadata": {},
   "outputs": [],
   "source": [
    "#gives a list of trees that can be obtained by inserting a in the existing tree\n",
    "def waystoinsert (m, tree, atoms, done, a):\n",
    "    T = []\n",
    "    for i in range (0,len(insertoptions(m, tree,atoms, done,a))):\n",
    "        for n in combin(insertoptions (m, tree, atoms, done,a),i+1):\n",
    "            T.append(tree+n)\n",
    "    return T"
   ]
  },
  {
   "cell_type": "code",
   "execution_count": 8,
   "metadata": {},
   "outputs": [],
   "source": [
    "#given a list of trees, atoms, and elements, it outputs all the ways in which the elements can be inserted\n",
    "def buildtrees (m, trees, atoms, done, elements):\n",
    "    if elements == []:\n",
    "        return trees\n",
    "    else:\n",
    "        a = elements[0]\n",
    "        newtrees = []\n",
    "        for tree in trees:\n",
    "            w = waystoinsert (m, tree, atoms, done, a)\n",
    "            newtrees = newtrees + w\n",
    "        return buildtrees (m, newtrees, atoms, done+[a], elements[1:])\n",
    "    \n",
    "        \n",
    "        "
   ]
  },
  {
   "cell_type": "code",
   "execution_count": 9,
   "metadata": {},
   "outputs": [],
   "source": [
    "def allatoms(k):\n",
    "    X = [1..k-1]\n",
    "    return powerset (X)"
   ]
  },
  {
   "cell_type": "code",
   "execution_count": 10,
   "metadata": {},
   "outputs": [],
   "source": [
    "def powerset(X):\n",
    "    P = []\n",
    "    for i in range (1,len(X)+1):\n",
    "        P = P+combin(X, i)\n",
    "    return P"
   ]
  },
  {
   "cell_type": "code",
   "execution_count": 11,
   "metadata": {},
   "outputs": [],
   "source": [
    "#given a multiplicity, this returns all possible atom combinations\n",
    "def atomtrees(k):\n",
    "    A = []\n",
    "    for x in allatoms(k):\n",
    "        X = []\n",
    "        for i in x:\n",
    "            X = X + [(0,i)]\n",
    "        A = A+[X]\n",
    "    return A"
   ]
  },
  {
   "cell_type": "code",
   "execution_count": 12,
   "metadata": {},
   "outputs": [
    {
     "data": {
      "text/plain": [
       "[[(0, 3)],\n",
       " [(0, 2)],\n",
       " [(0, 1)],\n",
       " [(0, 2), (0, 3)],\n",
       " [(0, 1), (0, 3)],\n",
       " [(0, 1), (0, 2)],\n",
       " [(0, 1), (0, 2), (0, 3)]]"
      ]
     },
     "execution_count": 12,
     "metadata": {},
     "output_type": "execute_result"
    }
   ],
   "source": [
    "atomtrees (4)"
   ]
  },
  {
   "cell_type": "code",
   "execution_count": 39,
   "metadata": {},
   "outputs": [],
   "source": [
    "#outputs all possible trees with redundancies taken care of\n",
    "def alltreesclean(k):\n",
    "    T = []\n",
    "    for tree in atomtrees (k):\n",
    "        for perm in perms (difference([1..k-1], doneintree(tree))):\n",
    "            t = buildtrees(k, [tree], atomsintree(tree), doneintree(tree), perm)\n",
    "            T =  T+t\n",
    "    T = T+[atomtrees(k)[len(atomtrees(k))-1]]\n",
    "    return clean(treestoset(T))\n",
    "#outputs all possible trees\n",
    "def alltrees(k):\n",
    "    T = []\n",
    "    for tree in atomtrees (k):\n",
    "        for perm in perms (difference([1..k-1], doneintree(tree))):\n",
    "            t = buildtrees(k, [tree], atomsintree(tree), doneintree(tree), perm)\n",
    "            T =  T+t\n",
    "    T = T+[atomtrees(k)[len(atomtrees(k))-1]]\n",
    "    return T"
   ]
  },
  {
   "cell_type": "code",
   "execution_count": 42,
   "metadata": {},
   "outputs": [],
   "source": [
    "def difference (A,B):\n",
    "    return [x for x in A if x not in B]"
   ]
  },
  {
   "cell_type": "code",
   "execution_count": 45,
   "metadata": {},
   "outputs": [
    {
     "name": "stdout",
     "output_type": "stream",
     "text": [
      "[3, 12, 93, 982, 17791]\n"
     ]
    }
   ],
   "source": [
    "A = []\n",
    "for i in range (3, 8):\n",
    "    A.append(len(alltrees(i))) \n",
    "print(A)"
   ]
  },
  {
   "cell_type": "code",
   "execution_count": 46,
   "metadata": {},
   "outputs": [
    {
     "data": {
      "text/plain": [
       "982"
      ]
     },
     "execution_count": 46,
     "metadata": {},
     "output_type": "execute_result"
    }
   ],
   "source": [
    "a  =alltrees(6)\n",
    "len(a)\n"
   ]
  },
  {
   "cell_type": "code",
   "execution_count": 47,
   "metadata": {},
   "outputs": [
    {
     "ename": "NameError",
     "evalue": "name 'k' is not defined",
     "output_type": "error",
     "traceback": [
      "\u001b[0;31m---------------------------------------------------------------------------\u001b[0m",
      "\u001b[0;31mNameError\u001b[0m                                 Traceback (most recent call last)",
      "\u001b[0;32m<ipython-input-47-9cb6070b18e7>\u001b[0m in \u001b[0;36m<module>\u001b[0;34m\u001b[0m\n\u001b[0;32m----> 1\u001b[0;31m \u001b[0mperms\u001b[0m \u001b[0;34m(\u001b[0m\u001b[0mdifference\u001b[0m\u001b[0;34m(\u001b[0m\u001b[0;34m(\u001b[0m\u001b[0mellipsis_range\u001b[0m\u001b[0;34m(\u001b[0m\u001b[0mInteger\u001b[0m\u001b[0;34m(\u001b[0m\u001b[0;36m1\u001b[0m\u001b[0;34m)\u001b[0m\u001b[0;34m,\u001b[0m\u001b[0mEllipsis\u001b[0m\u001b[0;34m,\u001b[0m\u001b[0mk\u001b[0m\u001b[0;34m-\u001b[0m\u001b[0mInteger\u001b[0m\u001b[0;34m(\u001b[0m\u001b[0;36m1\u001b[0m\u001b[0;34m)\u001b[0m\u001b[0;34m)\u001b[0m\u001b[0;34m)\u001b[0m\u001b[0;34m,\u001b[0m \u001b[0mdoneintree\u001b[0m\u001b[0;34m(\u001b[0m\u001b[0mtree\u001b[0m\u001b[0;34m)\u001b[0m\u001b[0;34m)\u001b[0m\u001b[0;34m)\u001b[0m\u001b[0;34m\u001b[0m\u001b[0;34m\u001b[0m\u001b[0m\n\u001b[0m",
      "\u001b[0;31mNameError\u001b[0m: name 'k' is not defined"
     ]
    }
   ],
   "source": [
    "perms (difference([1..k-1], doneintree(tree)))"
   ]
  },
  {
   "cell_type": "code",
   "execution_count": 31,
   "metadata": {},
   "outputs": [],
   "source": [
    "def perms(X):\n",
    "    if len(X) == 1:\n",
    "        return [[X[0]]]\n",
    "    else:\n",
    "        A=[]\n",
    "        for i in X:\n",
    "            for j in perms(difference (X, [i])):\n",
    "                    A = A+[[i]+j]\n",
    "        return A\n",
    "        "
   ]
  },
  {
   "cell_type": "code",
   "execution_count": 19,
   "metadata": {},
   "outputs": [
    {
     "data": {
      "text/plain": [
       "[[1, 2, 3], [1, 3, 2], [2, 1, 3], [2, 3, 1], [3, 1, 2], [3, 2, 1]]"
      ]
     },
     "execution_count": 19,
     "metadata": {},
     "output_type": "execute_result"
    }
   ],
   "source": [
    "perms([1,2,3])"
   ]
  },
  {
   "cell_type": "code",
   "execution_count": 61,
   "metadata": {},
   "outputs": [
    {
     "data": {
      "text/plain": [
       "93"
      ]
     },
     "execution_count": 61,
     "metadata": {},
     "output_type": "execute_result"
    }
   ],
   "source": [
    "a = alltrees (6)\n",
    "len(alltrees(5))"
   ]
  },
  {
   "cell_type": "code",
   "execution_count": 21,
   "metadata": {},
   "outputs": [
    {
     "name": "stdout",
     "output_type": "stream",
     "text": [
      "yes\n",
      "[(0, 1), (0, 2), (1, 3), (2, 4), (4, 5)]\n",
      "yes\n",
      "[(0, 1), (0, 2), (2, 4), (1, 3), (4, 5)]\n",
      "yes\n",
      "[(0, 1), (0, 2), (2, 4), (4, 5), (1, 3)]\n"
     ]
    }
   ],
   "source": [
    "for i in perms([(0,1),(0,2),(1,3),(2,4),(4,5)]):\n",
    "    if i in a:\n",
    "        print(\"yes\")\n",
    "        print(i)\n",
    "        "
   ]
  },
  {
   "cell_type": "code",
   "execution_count": 22,
   "metadata": {},
   "outputs": [],
   "source": [
    "def clean(X):\n",
    "    if X == []:\n",
    "        return []\n",
    "    else:\n",
    "        Y = [X[0]]+[i for i in clean(X[1:]) if i != X[0]]\n",
    "        return Y"
   ]
  },
  {
   "cell_type": "code",
   "execution_count": 192,
   "metadata": {},
   "outputs": [
    {
     "data": {
      "text/plain": [
       "[1, 2, 3]"
      ]
     },
     "execution_count": 192,
     "metadata": {},
     "output_type": "execute_result"
    }
   ],
   "source": []
  },
  {
   "cell_type": "code",
   "execution_count": 189,
   "metadata": {},
   "outputs": [
    {
     "data": {
      "text/plain": [
       "[2, 3]"
      ]
     },
     "execution_count": 189,
     "metadata": {},
     "output_type": "execute_result"
    }
   ],
   "source": []
  },
  {
   "cell_type": "code",
   "execution_count": 234,
   "metadata": {},
   "outputs": [],
   "source": [
    "def treestoset(trees):\n",
    "    alltreeset =[]\n",
    "    for tree in trees:\n",
    "        treeset = set(tree)\n",
    "        alltreeset.append(treeset)\n",
    "    return alltreeset"
   ]
  },
  {
   "cell_type": "code",
   "execution_count": 239,
   "metadata": {},
   "outputs": [
    {
     "data": {
      "text/plain": [
       "631"
      ]
     },
     "execution_count": 239,
     "metadata": {},
     "output_type": "execute_result"
    }
   ],
   "source": [
    "a = alltrees(6)\n",
    "len(clean(a))"
   ]
  },
  {
   "cell_type": "code",
   "execution_count": 218,
   "metadata": {},
   "outputs": [
    {
     "data": {
      "text/plain": [
       "[(0, 5), (5, 4), (4, 3), (3, 2), (2, 1)]"
      ]
     },
     "execution_count": 218,
     "metadata": {},
     "output_type": "execute_result"
    }
   ],
   "source": [
    "a[0]"
   ]
  },
  {
   "cell_type": "code",
   "execution_count": 245,
   "metadata": {},
   "outputs": [
    {
     "data": {
      "text/plain": [
       "[3, 12, 93, 982]"
      ]
     },
     "execution_count": 245,
     "metadata": {},
     "output_type": "execute_result"
    }
   ],
   "source": [
    "A = []\n",
    "for i in range (3, 7):\n",
    "    A = A + [len(alltrees(i))]\n",
    "A"
   ]
  },
  {
   "cell_type": "code",
   "execution_count": 246,
   "metadata": {},
   "outputs": [
    {
     "data": {
      "text/plain": [
       "[3, 12, 79, 631]"
      ]
     },
     "execution_count": 246,
     "metadata": {},
     "output_type": "execute_result"
    }
   ],
   "source": [
    "A = []\n",
    "for i in range (3, 7):\n",
    "    A = A + [len(alltreesclean(i))]\n",
    "A"
   ]
  },
  {
   "cell_type": "code",
   "execution_count": 223,
   "metadata": {},
   "outputs": [
    {
     "data": {
      "text/plain": [
       "{(0, 5), (2, 1), (3, 2), (4, 3), (5, 4)}"
      ]
     },
     "execution_count": 223,
     "metadata": {},
     "output_type": "execute_result"
    }
   ],
   "source": []
  },
  {
   "cell_type": "code",
   "execution_count": 231,
   "metadata": {},
   "outputs": [],
   "source": [
    "x = set()"
   ]
  },
  {
   "cell_type": "code",
   "execution_count": 232,
   "metadata": {},
   "outputs": [
    {
     "ename": "TypeError",
     "evalue": "unhashable type: 'set'",
     "output_type": "error",
     "traceback": [
      "\u001b[0;31m---------------------------------------------------------------------------\u001b[0m",
      "\u001b[0;31mTypeError\u001b[0m                                 Traceback (most recent call last)",
      "\u001b[0;32m<ipython-input-232-998300d9a9f0>\u001b[0m in \u001b[0;36m<module>\u001b[0;34m\u001b[0m\n\u001b[0;32m----> 1\u001b[0;31m \u001b[0mx\u001b[0m\u001b[0;34m.\u001b[0m\u001b[0madd\u001b[0m\u001b[0;34m(\u001b[0m\u001b[0;34m{\u001b[0m\u001b[0mInteger\u001b[0m\u001b[0;34m(\u001b[0m\u001b[0;36m1\u001b[0m\u001b[0;34m)\u001b[0m\u001b[0;34m}\u001b[0m\u001b[0;34m)\u001b[0m\u001b[0;34m\u001b[0m\u001b[0;34m\u001b[0m\u001b[0m\n\u001b[0m",
      "\u001b[0;31mTypeError\u001b[0m: unhashable type: 'set'"
     ]
    }
   ],
   "source": [
    "x.add({1})"
   ]
  },
  {
   "cell_type": "code",
   "execution_count": null,
   "metadata": {},
   "outputs": [],
   "source": []
  },
  {
   "cell_type": "code",
   "execution_count": 53,
   "metadata": {},
   "outputs": [
    {
     "data": {
      "text/plain": [
       "[[(0, 3), (3, 2), (2, 1)],\n",
       " [(0, 1), (1, 2), (2, 3)],\n",
       " [(0, 2), (0, 3), (3, 1)],\n",
       " [(0, 2), (0, 3), (2, 1)],\n",
       " [(0, 2), (0, 3), (2, 1), (3, 1)],\n",
       " [(0, 1), (0, 3), (3, 2)],\n",
       " [(0, 1), (0, 3), (1, 2)],\n",
       " [(0, 1), (0, 3), (1, 2), (3, 2)],\n",
       " [(0, 1), (0, 2), (2, 3)],\n",
       " [(0, 1), (0, 2), (1, 3)],\n",
       " [(0, 1), (0, 2), (1, 3), (2, 3)],\n",
       " [(0, 1), (0, 2), (0, 3)]]"
      ]
     },
     "execution_count": 53,
     "metadata": {},
     "output_type": "execute_result"
    }
   ],
   "source": [
    "four = alltrees(4)\n",
    "four"
   ]
  },
  {
   "cell_type": "code",
   "execution_count": 54,
   "metadata": {},
   "outputs": [
    {
     "data": {
      "image/png": "[encoded data removed]",
      "text/plain": [
       "Finite poset containing 4 elements"
      ]
     },
     "execution_count": 54,
     "metadata": {},
     "output_type": "execute_result"
    }
   ],
   "source": [
    "Poset((range(4),four[0]))"
   ]
  },
  {
   "cell_type": "code",
   "execution_count": 98,
   "metadata": {},
   "outputs": [],
   "source": [
    "def save_plots(posets, folder_name):\n",
    "    n = posets[0].cardinality()\n",
    "    for i in range(len(posets)):\n",
    "        name = folder_name + \"/\" + str(n) + \"_\" + str(i) + \".png\"\n",
    "        plot = posets[i].plot()\n",
    "        plot.save(name)"
   ]
  },
  {
   "cell_type": "code",
   "execution_count": 108,
   "metadata": {},
   "outputs": [],
   "source": [
    "def allposets(n):\n",
    "    trees = alltrees(n)\n",
    "    posets = []\n",
    "    for tree in trees:\n",
    "        posets.append(Poset((range(n),tree)))\n",
    "    return list(set(posets))"
   ]
  },
  {
   "cell_type": "code",
   "execution_count": 71,
   "metadata": {},
   "outputs": [
    {
     "name": "stdout",
     "output_type": "stream",
     "text": [
      "true\n",
      "Successfully loaded Singular\n"
     ]
    }
   ],
   "source": [
    "load(\"/home/bach/Documents/SagePKG/NumericalSemigroup.sage\")\n",
    "load(\"/home/bach/Documents/SagePKG/KunzPoset.sage\")"
   ]
  },
  {
   "cell_type": "code",
   "execution_count": 81,
   "metadata": {},
   "outputs": [],
   "source": [
    "def kunz_posets(n):\n",
    "    facfile = '/home/bach/Documents/SagePKG/data/m' + str(n) + '.fac'\n",
    "    hpfile = '/home/bach/Documents/SagePKG/data/m' + str(n) + '.out'\n",
    "    ps = KunzPoset.ReadFacesFromNormaliz(face_lattice_file_path=facfile, hplane_file_path=hpfile)\n",
    "    return [kp.poset for kp in ps]\n",
    "\n",
    "def bad_posets(n):\n",
    "    kps = kunz_posets(n)\n",
    "    ps = allposets(n)\n",
    "    #sanity_check\n",
    "    if list(set(kps) - set(ps)) != []: print(\"bad program\")\n",
    "    else: return list(set(ps) - set(kps))"
   ]
  },
  {
   "cell_type": "code",
   "execution_count": 111,
   "metadata": {},
   "outputs": [],
   "source": [
    "save_plots(bad_posets(6), \"bad_posets_6\")"
   ]
  },
  {
   "cell_type": "code",
   "execution_count": 110,
   "metadata": {},
   "outputs": [
    {
     "data": {
      "text/plain": [
       "31"
      ]
     },
     "execution_count": 110,
     "metadata": {},
     "output_type": "execute_result"
    }
   ],
   "source": [
    "len(set(kunz_posets(5)))"
   ]
  },
  {
   "cell_type": "code",
   "execution_count": 107,
   "metadata": {},
   "outputs": [
    {
     "data": {
      "text/plain": [
       "71"
      ]
     },
     "execution_count": 107,
     "metadata": {},
     "output_type": "execute_result"
    }
   ],
   "source": [
    "len(set(allposets(5)))"
   ]
  }
 ],
 "metadata": {
  "kernelspec": {
   "display_name": "SageMath 9.2",
   "language": "sage",
   "name": "sagemath"
  },
  "language_info": {
   "codemirror_mode": {
    "name": "ipython",
    "version": 3
   },
   "file_extension": ".py",
   "mimetype": "text/x-python",
   "name": "python",
   "nbconvert_exporter": "python",
   "pygments_lexer": "ipython3",
   "version": "3.8.5"
  }
 },
 "nbformat": 4,
 "nbformat_minor": 4
}
